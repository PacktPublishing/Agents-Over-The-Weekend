{
  "cells": [
    {
      "cell_type": "markdown",
      "metadata": {
        "id": "wyeCwDW69Zf3"
      },
      "source": [
        "# Demo 2 - Multi-Agent Team Interaction (Agent Collaboration)\n",
        "By: [Lior Gazit](https://github.com/LiorGazit).  \n",
        "Repo: [Agents-Over-The-Weekend](https://github.com/PacktPublishing/Agents-Over-The-Weekend/tree/main/Lior_Gazit/workshop_september_2025/)   \n",
        "Running LLMs locally for free: This code leverages [`LLMPop`](https://pypi.org/project/llmpop/) that is dedicated to spinning up local or remote LLMs in a unified and modular syntax.  \n",
        "\n",
        "<a target=\"_blank\" href=\"https://colab.research.google.com/github/PacktPublishing/Agents-Over-The-Weekend/blob/main/Lior_Gazit/workshop_september_2025/codes_for_Lior_Bootcamp_talk_demo2.ipynb\">\n",
        "  <img src=\"https://colab.research.google.com/assets/colab-badge.svg\" alt=\"Open In Colab\"/>\n",
        "</a> (pick a GPU Colab session for fastest computing)  \n",
        "\n",
        "```\n",
        "Disclaimer: The content and ideas presented in this notebook are solely those of the author, Lior Gazit, and do not represent the views or intellectual property of the author's employer.\n",
        "```"
      ]
    },
    {
      "cell_type": "markdown",
      "metadata": {
        "id": "dn9qIRLS9Zf7"
      },
      "source": [
        "Installing:"
      ]
    },
    {
      "cell_type": "code",
      "execution_count": 5,
      "metadata": {
        "id": "NMpPyY829Zf9"
      },
      "outputs": [],
      "source": [
        "%pip -q install llmpop\n",
        "%pip -q install sentence-transformers faiss-cpu langchain tiktoken langsmith langchain_openai -U \"autogen-agentchat\" \"autogen-ext[openai]\""
      ]
    },
    {
      "cell_type": "markdown",
      "metadata": {
        "id": "7uU75SUy9ZgA"
      },
      "source": [
        "**Imports:**"
      ]
    },
    {
      "cell_type": "code",
      "execution_count": 3,
      "metadata": {
        "id": "MVDmCWnO9ZgB"
      },
      "outputs": [],
      "source": [
        "import os\n",
        "import requests"
      ]
    },
    {
      "cell_type": "code",
      "execution_count": 8,
      "metadata": {
        "colab": {
          "base_uri": "https://localhost:8080/"
        },
        "id": "0dr018PW9ZgH",
        "outputId": "b27b338a-18a4-417f-8400-f8d10b8db9f6"
      },
      "outputs": [
        {
          "output_type": "stream",
          "name": "stdout",
          "text": [
            "\n",
            "=== Coder output ===\n",
            "\n",
            "def is_prime(n):\n",
            "    if n < 2:\n",
            "      return False\n",
            "    for i in range(2, int(n ** 0.5) + 1):\n",
            "      if n % i == 0:\n",
            "        return False\n",
            "    return True\n",
            "\n",
            "=== Reviewer feedback ===\n",
            "\n",
            "Here's my evaluation of the given code:\n",
            "\n",
            "- Correctness and edge cases: The function is correct as per its basic definition, but it does not handle negative numbers or non-integer inputs. It also returns False for even numbers (except 2) and any number greater than the square root of n, which is incorrect according to the definition of a prime number.\n",
            "\n",
            "*Corrected version:*\n",
            "\n",
            "```python\n",
            "def is_prime(n):\n",
            "    if not isinstance(n, int):  # Check if input is an integer\n",
            "      raise TypeError(\"Input must be an integer.\")\n",
            "    if n < 2:\n",
            "      return False\n",
            "    for i in range(2, int(n ** 0.5) + 1):\n",
            "      if n % i == 0:\n",
            "        return False\n",
            "    return True\n",
            "```\n",
            "\n",
            "- Time complexity reasonableness: The current implementation has a time complexity of O(sqrt(n)), which is acceptable but could be improved.\n",
            "\n",
            "*Corrected version:*\n",
            "\n",
            "```python\n",
            "def is_prime(n):\n",
            "    if not isinstance(n, int):  # Check if input is an integer\n",
            "      raise TypeError(\"Input must be an integer.\")\n",
            "    if n < 2:\n",
            "      return False\n",
            "    for i in range(2, int(n ** 0.5) + 1):\n",
            "      if n % i == 0:\n",
            "        return False\n",
            "    return True\n",
            "```\n",
            "\n",
            "- Readability: The code could be made more readable by adding comments and using whitespace effectively.\n",
            "\n",
            "*Corrected version:*\n",
            "\n",
            "\n",
            "```python\n",
            "def is_prime(n):\n",
            "    \"\"\"\n",
            "    Returns True if the given number is prime, False otherwise.\n",
            "    \n",
            "    Parameters:\n",
            "    n (int): The input number to check for primality.\n",
            "    \n",
            "    Returns:\n",
            "    bool: Whether the number is prime.\n",
            "    \n",
            "    Raises:\n",
            "    TypeError: If the input is not an integer.\n",
            "    \"\"\"\n",
            "\n",
            "    # Check if input is an integer\n",
            "    if not isinstance(n, int):\n",
            "        raise TypeError(\"Input must be an integer.\")\n",
            "\n",
            "    # Corner case: numbers less than 2 are not prime\n",
            "    if n < 2:\n",
            "        return False\n",
            "\n",
            "    # Only need to check up to the square root of n for factors\n",
            "    for i in range(2, int(n ** 0.5) + 1):\n",
            "        if n % i == 0:\n",
            "            return False\n",
            "\n",
            "    return True\n",
            "```\n"
          ]
        }
      ],
      "source": [
        "from llmpop import init_llm\n",
        "from langchain_core.prompts import ChatPromptTemplate\n",
        "\n",
        "coder = init_llm(model=\"CodeLlama\", provider=\"ollama\", verbose=False)\n",
        "reviewer = init_llm(model=\"llama3.2:1b\", provider=\"ollama\", verbose=False)\n",
        "\n",
        "task = \"Write a Python function to check if a number is prime.\"\n",
        "\n",
        "# ---- Agent A: Coder ----\n",
        "coder_prompt = ChatPromptTemplate.from_template(\n",
        "    \"\"\"\n",
        "System: You are a coding agent. Output *code only*.\n",
        "User task: {task}\n",
        "\"\"\"\n",
        ")\n",
        "\n",
        "coder_result = (coder_prompt | coder).invoke({\"task\": task})\n",
        "coder_code = getattr(coder_result, \"content\", str(coder_result)).strip()\n",
        "\n",
        "# ---- Agent B: Reviewer ----\n",
        "reviewer_prompt = ChatPromptTemplate.from_template(\n",
        "    \"\"\"\n",
        "System: You are a strict code reviewer for Python.\n",
        "Given the code below, evaluate for:\n",
        "- Correctness and edge cases\n",
        "- Time complexity reasonableness\n",
        "- Readability (within reason, given constraints)\n",
        "If changes are needed, provide a brief rationale followed by a *fully corrected* version.\n",
        "If it's good as-is, say \"APPROVED\" and explain briefly why.\n",
        "\n",
        "Code:\n",
        "```python\n",
        "{code}\n",
        "```\n",
        "\"\"\"\n",
        ")\n",
        "\n",
        "review_result = (reviewer_prompt | reviewer).invoke({\"code\": coder_code})\n",
        "review_text = getattr(review_result, \"content\", str(review_result)).strip()\n",
        "\n",
        "print(\"\\n=== Coder output ===\\n\")\n",
        "print(coder_code)\n",
        "\n",
        "print(\"\\n=== Reviewer feedback ===\\n\")\n",
        "print(review_text)\n"
      ]
    },
    {
      "cell_type": "markdown",
      "metadata": {
        "id": "4P4Ej8DS9ZgI"
      },
      "source": [
        "Now, here is an example using AutoGen:"
      ]
    },
    {
      "cell_type": "code",
      "execution_count": 9,
      "metadata": {
        "colab": {
          "base_uri": "https://localhost:8080/"
        },
        "id": "CtutwBfT9ZgJ",
        "outputId": "e487da00-d551-42e1-d00d-83b9767ca71a"
      },
      "outputs": [
        {
          "output_type": "stream",
          "name": "stdout",
          "text": [
            "Paste your OpenAI API key: ··········\n",
            "=== Coder’s Output ===\n",
            "\n",
            "Write a Python function `is_prime(n)` that returns True if `n` is prime.\n",
            "```python\n",
            "def is_prime(n):\n",
            "    if n <= 1:\n",
            "        return False\n",
            "    if n <= 3:\n",
            "        return True\n",
            "    if n % 2 == 0 or n % 3 == 0:\n",
            "        return False\n",
            "    i = 5\n",
            "    while i * i <= n:\n",
            "        if n % i == 0 or n % (i + 2) == 0:\n",
            "            return False\n",
            "        i += 6\n",
            "    return True\n",
            "```\n",
            "\n",
            "=== Reviewer’s Feedback ===\n",
            "\n",
            "Review the following code for correctness and edge cases:\n",
            "\n",
            "messages=[TextMessage(id='cbcc857b-75c5-4d4b-aa97-8e48fd9deade', source='user', models_usage=None, metadata={}, created_at=datetime.datetime(2025, 9, 9, 3, 40, 1, 635763, tzinfo=datetime.timezone.utc), content='Write a Python function `is_prime(n)` that returns True if `n` is prime.', type='TextMessage'), TextMessage(id='5f0262bb-6af6-41c4-871b-476c52732818', source='Coder', models_usage=RequestUsage(prompt_tokens=43, completion_tokens=102), metadata={}, created_at=datetime.datetime(2025, 9, 9, 3, 40, 3, 806367, tzinfo=datetime.timezone.utc), content='```python\\ndef is_prime(n):\\n    if n <= 1:\\n        return False\\n    if n <= 3:\\n        return True\\n    if n % 2 == 0 or n % 3 == 0:\\n        return False\\n    i = 5\\n    while i * i <= n:\\n        if n % i == 0 or n % (i + 2) == 0:\\n            return False\\n        i += 6\\n    return True\\n```', type='TextMessage')] stop_reason=None\n",
            "The code provided is a list of `TextMessage` objects, each containing metadata and content related to a conversation about writing a Python function to check if a number is prime. The second message contains the implementation of the `is_prime` function. Let's review the function for correctness and potential edge cases:\n",
            "\n",
            "### Function Review\n",
            "\n",
            "```python\n",
            "def is_prime(n):\n",
            "    if n <= 1:\n",
            "        return False\n",
            "    if n <= 3:\n",
            "        return True\n",
            "    if n % 2 == 0 or n % 3 == 0:\n",
            "        return False\n",
            "    i = 5\n",
            "    while i * i <= n:\n",
            "        if n % i == 0 or n % (i + 2) == 0:\n",
            "            return False\n",
            "        i += 6\n",
            "    return True\n",
            "```\n",
            "\n",
            "### Correctness\n",
            "\n",
            "1. **Basic Checks**: \n",
            "   - The function correctly returns `False` for numbers less than or equal to 1, as these are not prime.\n",
            "   - It returns `True` for numbers 2 and 3, which are prime.\n",
            "\n",
            "2. **Divisibility Checks**:\n",
            "   - The function correctly checks for divisibility by 2 and 3, returning `False` if `n` is divisible by either.\n",
            "\n",
            "3. **Loop for Larger Numbers**:\n",
            "   - The loop starts at 5 and checks divisibility for numbers of the form `6k ± 1`, which is a common optimization for prime checking.\n",
            "   - The loop condition `i * i <= n` is correct, as a larger factor of `n` must be a multiple of a smaller factor that has already been checked.\n",
            "\n",
            "### Edge Cases\n",
            "\n",
            "1. **Negative Numbers**: The function correctly returns `False` for negative numbers since they are not prime.\n",
            "\n",
            "2. **Zero and One**: The function correctly returns `False` for 0 and 1.\n",
            "\n",
            "3. **Small Primes**: The function correctly identifies 2 and 3 as prime numbers.\n",
            "\n",
            "4. **Even Numbers Greater Than 2**: The function correctly returns `False` for even numbers greater than 2.\n",
            "\n",
            "5. **Large Primes**: The function should correctly identify large prime numbers due to the efficient loop structure.\n",
            "\n",
            "6. **Performance**: The function is efficient for reasonably large values of `n` due to the `6k ± 1` optimization.\n",
            "\n",
            "### Potential Improvements\n",
            "\n",
            "- **Type Checking**: The function does not check if `n` is an integer. If a non-integer is passed, it could lead to unexpected behavior or errors. Consider adding a type check at the beginning of the function.\n",
            "  \n",
            "- **Handling Non-Integer Input**: If `n` is not an integer, the function should raise a `TypeError` or return `False`.\n",
            "\n",
            "Overall, the function is well-implemented for checking if a number is prime, with optimizations for performance. Adding type checks would make it more robust against incorrect input types.\n"
          ]
        }
      ],
      "source": [
        "import os\n",
        "import asyncio\n",
        "# In Colab, use getpass to securely prompt for your API key\n",
        "from getpass import getpass\n",
        "import openai\n",
        "\n",
        "openai.api_key = getpass(\"Paste your OpenAI API key: \")\n",
        "\n",
        "# 1. Import the agent classes and the OpenAI client\n",
        "from autogen_agentchat.agents import AssistantAgent\n",
        "from autogen_ext.models.openai import OpenAIChatCompletionClient\n",
        "\n",
        "async def multi_agent_demo():\n",
        "    # 2. Configure your OpenAI API key\n",
        "    api_key = openai.api_key\n",
        "    if not api_key:\n",
        "        openai.api_key = getpass(\"Paste your OpenAI API key: \")\n",
        "\n",
        "    # 3. Create the OpenAI model client\n",
        "    model_client = OpenAIChatCompletionClient(\n",
        "        model=\"gpt-4o\",\n",
        "        api_key=api_key,\n",
        "        temperature=0.0,\n",
        "    )\n",
        "\n",
        "    # 4. Instantiate two LLM agents with distinct roles\n",
        "    coder = AssistantAgent(\n",
        "        name=\"Coder\",\n",
        "        model_client=model_client,\n",
        "        system_message=\"You are a Python coding assistant. Produce only working code.\"\n",
        "    )\n",
        "    reviewer = AssistantAgent(\n",
        "        name=\"Reviewer\",\n",
        "        model_client=model_client,\n",
        "        system_message=\"You are a code reviewer. Point out bugs or edge cases.\"\n",
        "    )\n",
        "\n",
        "    # 5. Coder agent writes a function\n",
        "    code_task = \"Write a Python function `is_prime(n)` that returns True if `n` is prime.\"\n",
        "    code = await coder.run(task=code_task)\n",
        "    print(\"=== Coder’s Output ===\\n\")\n",
        "    for msg in code.messages:\n",
        "        print(msg.content)\n",
        "\n",
        "    # 6. Reviewer agent critiques the code\n",
        "    review = await reviewer.run(task=f\"Review the following code for correctness and edge cases:\\n\\n{code}\")\n",
        "    print(\"\\n=== Reviewer’s Feedback ===\\n\")\n",
        "    for msg in review.messages:\n",
        "        print(msg.content)\n",
        "\n",
        "    # 7. Clean up\n",
        "    await model_client.close()\n",
        "\n",
        "# 8. Execute the multi‑agent demo\n",
        "await multi_agent_demo()"
      ]
    },
    {
      "cell_type": "code",
      "source": [],
      "metadata": {
        "id": "kCIX_C-MVGEt"
      },
      "execution_count": null,
      "outputs": []
    }
  ],
  "metadata": {
    "language_info": {
      "name": "python"
    },
    "colab": {
      "provenance": [],
      "gpuType": "T4"
    },
    "kernelspec": {
      "name": "python3",
      "display_name": "Python 3"
    },
    "accelerator": "GPU"
  },
  "nbformat": 4,
  "nbformat_minor": 0
}